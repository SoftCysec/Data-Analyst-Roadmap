{
 "cells": [
  {
   "cell_type": "markdown",
   "id": "103790af",
   "metadata": {},
   "source": [
    "# Multiple Linear Regression\n",
    "\n",
    "<img src='q.png' />\n",
    "\n",
    "\n",
    "<img src='w.png' />\n",
    "\n",
    "\n",
    "\n",
    "<img src='e.png' />"
   ]
  },
  {
   "cell_type": "code",
   "execution_count": null,
   "id": "e12f32b5",
   "metadata": {},
   "outputs": [],
   "source": [
    "import numpy as np\n",
    "import pandas as pd\n",
    "\n",
    "import statsmodels.api "
   ]
  },
  {
   "cell_type": "code",
   "execution_count": null,
   "id": "c71e6ea5",
   "metadata": {},
   "outputs": [],
   "source": []
  },
  {
   "cell_type": "code",
   "execution_count": null,
   "id": "d2bf1207",
   "metadata": {},
   "outputs": [],
   "source": []
  },
  {
   "cell_type": "code",
   "execution_count": null,
   "id": "7cbf0081",
   "metadata": {},
   "outputs": [],
   "source": []
  },
  {
   "cell_type": "code",
   "execution_count": null,
   "id": "74002d70",
   "metadata": {},
   "outputs": [],
   "source": []
  },
  {
   "cell_type": "code",
   "execution_count": null,
   "id": "8576cb5f",
   "metadata": {},
   "outputs": [],
   "source": []
  },
  {
   "cell_type": "code",
   "execution_count": null,
   "id": "e6623496",
   "metadata": {},
   "outputs": [],
   "source": []
  },
  {
   "cell_type": "code",
   "execution_count": null,
   "id": "975547f0",
   "metadata": {},
   "outputs": [],
   "source": []
  },
  {
   "cell_type": "code",
   "execution_count": null,
   "id": "1d7512e9",
   "metadata": {},
   "outputs": [],
   "source": []
  },
  {
   "cell_type": "markdown",
   "id": "0f474b8a",
   "metadata": {},
   "source": [
    "# multicollinearity\n",
    "\n",
    "<img src='ee.png' />\n",
    "\n",
    "\n",
    "# VIF (Variance Inflation Factor)\n",
    "\n",
    "<img src='rr.png' />"
   ]
  },
  {
   "cell_type": "code",
   "execution_count": null,
   "id": "81de17e2",
   "metadata": {},
   "outputs": [],
   "source": []
  }
 ],
 "metadata": {
  "kernelspec": {
   "display_name": "Python 3 (ipykernel)",
   "language": "python",
   "name": "python3"
  },
  "language_info": {
   "codemirror_mode": {
    "name": "ipython",
    "version": 3
   },
   "file_extension": ".py",
   "mimetype": "text/x-python",
   "name": "python",
   "nbconvert_exporter": "python",
   "pygments_lexer": "ipython3",
   "version": "3.9.12"
  }
 },
 "nbformat": 4,
 "nbformat_minor": 5
}

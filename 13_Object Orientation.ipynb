{
 "cells": [
  {
   "cell_type": "code",
   "execution_count": 1,
   "id": "f956ae23",
   "metadata": {},
   "outputs": [
    {
     "name": "stdout",
     "output_type": "stream",
     "text": [
      "<class 'int'>\n"
     ]
    }
   ],
   "source": [
    "a = 10\n",
    "\n",
    "print(type(a))"
   ]
  },
  {
   "cell_type": "code",
   "execution_count": 14,
   "id": "a8e19eec",
   "metadata": {
    "scrolled": false
   },
   "outputs": [],
   "source": [
    "# help(int)"
   ]
  },
  {
   "cell_type": "code",
   "execution_count": null,
   "id": "02596f25",
   "metadata": {},
   "outputs": [],
   "source": [
    "int a = 10;   # 2 bytes - 16 bits\n",
    "\n",
    "struct car{\n",
    "    int cust_id;  # 2 bytes\n",
    "    char name[10];# 10 bytes\n",
    "    float price;  # 4 bytes\n",
    "}\n",
    "\n",
    "struct car c1;\n",
    "       int a;"
   ]
  },
  {
   "cell_type": "code",
   "execution_count": null,
   "id": "73d30a38",
   "metadata": {},
   "outputs": [],
   "source": [
    "bit>numbers>characters>instructions>function(program)>class>modules>package>library>framework>software"
   ]
  },
  {
   "cell_type": "markdown",
   "id": "8ae18de9",
   "metadata": {},
   "source": [
    "# Object Orientation\n",
    "\n",
    "7 properties of OOP\n",
    "\n",
    "1. Class\n",
    "        Updated version of structures (struct -- C programming)\n",
    "        collection of variables and methods\n",
    "        class is a blueprint.\n",
    "2. Object\n",
    "        Run time or real time entity.\n",
    "        hash code/virtual code - ID(python)\n",
    "        \n",
    "3. Abstraction and Encapsulation\n",
    "        Abstraction - showing only essential features without showing any background details.\n",
    "        Encapsulation - wrapping up of data in a single unit.\n",
    "        \n",
    "4. Inheritance\n",
    "        Acquiring properties of one class into another.\n",
    "        code reusability\n",
    "        - single level\n",
    "        - multi level\n",
    "        - heirarchical\n",
    "        - multiple\n",
    "        - hybride\n",
    "        \n",
    "5. Polymorphism\n",
    "        same name multiple functionalities\n",
    "        - method overloading\n",
    "        - method overriding\n",
    "        \n",
    "6. Dynamic Memory Allocation\n",
    "        run time memory allocation\n",
    "        \n",
    "7. Message Passing\n",
    "        Communication between objects"
   ]
  },
  {
   "cell_type": "code",
   "execution_count": 8,
   "id": "d69e271e",
   "metadata": {},
   "outputs": [
    {
     "name": "stdout",
     "output_type": "stream",
     "text": [
      "2207057668688\n"
     ]
    }
   ],
   "source": [
    "a = 10\n",
    "\n",
    "print(id(a))"
   ]
  },
  {
   "cell_type": "code",
   "execution_count": 10,
   "id": "cb5639c1",
   "metadata": {},
   "outputs": [
    {
     "name": "stdout",
     "output_type": "stream",
     "text": [
      "2207057669008\n",
      "2207057669328\n"
     ]
    }
   ],
   "source": [
    "b = 20\n",
    "\n",
    "c = a + b\n",
    "print(id(b))\n",
    "\n",
    "print(id(c))"
   ]
  },
  {
   "cell_type": "code",
   "execution_count": 11,
   "id": "921fed62",
   "metadata": {},
   "outputs": [
    {
     "ename": "TypeError",
     "evalue": "can only concatenate str (not \"int\") to str",
     "output_type": "error",
     "traceback": [
      "\u001b[1;31m---------------------------------------------------------------------------\u001b[0m",
      "\u001b[1;31mTypeError\u001b[0m                                 Traceback (most recent call last)",
      "Input \u001b[1;32mIn [11]\u001b[0m, in \u001b[0;36m<cell line: 1>\u001b[1;34m()\u001b[0m\n\u001b[1;32m----> 1\u001b[0m s \u001b[38;5;241m=\u001b[39m \u001b[38;5;124;43m\"\u001b[39;49m\u001b[38;5;124;43mA\u001b[39;49m\u001b[38;5;124;43m\"\u001b[39;49m\u001b[43m \u001b[49m\u001b[38;5;241;43m+\u001b[39;49m\u001b[43m \u001b[49m\u001b[38;5;241;43m10\u001b[39;49m\n",
      "\u001b[1;31mTypeError\u001b[0m: can only concatenate str (not \"int\") to str"
     ]
    }
   ],
   "source": [
    "s = \"A\" + 10"
   ]
  },
  {
   "cell_type": "code",
   "execution_count": 12,
   "id": "0f26ad3e",
   "metadata": {},
   "outputs": [
    {
     "name": "stdout",
     "output_type": "stream",
     "text": [
      "AAAA\n"
     ]
    }
   ],
   "source": [
    "s = \"A\" * 4\n",
    "\n",
    "print(s)"
   ]
  },
  {
   "cell_type": "code",
   "execution_count": 15,
   "id": "ba90ba2a",
   "metadata": {},
   "outputs": [
    {
     "name": "stdout",
     "output_type": "stream",
     "text": [
      "<class 'function'>\n"
     ]
    }
   ],
   "source": [
    "def hello():\n",
    "    return \"Hi\"\n",
    "\n",
    "print(type(hello))"
   ]
  },
  {
   "cell_type": "code",
   "execution_count": 16,
   "id": "41a3ec56",
   "metadata": {},
   "outputs": [
    {
     "name": "stdout",
     "output_type": "stream",
     "text": [
      "2207169212128\n"
     ]
    }
   ],
   "source": [
    "print(id(hello))"
   ]
  },
  {
   "cell_type": "code",
   "execution_count": null,
   "id": "06ce3374",
   "metadata": {},
   "outputs": [],
   "source": [
    "class win7:\n",
    "def start()\n",
    "\n",
    "def controlpanel():\n",
    "    \n",
    "\n",
    "add(x, y)\n",
    "\n",
    "add(a,b,c)\n",
    "\n",
    "class win10(win7):\n",
    "    \n",
    "    \n",
    "product_id = wid10()\n",
    "\n",
    "product_id.controlpanel()"
   ]
  },
  {
   "cell_type": "code",
   "execution_count": null,
   "id": "53b1fb7c",
   "metadata": {},
   "outputs": [],
   "source": [
    "add()"
   ]
  },
  {
   "cell_type": "code",
   "execution_count": 17,
   "id": "67f2a3da",
   "metadata": {},
   "outputs": [
    {
     "data": {
      "text/plain": [
       "30"
      ]
     },
     "execution_count": 17,
     "metadata": {},
     "output_type": "execute_result"
    }
   ],
   "source": [
    "10 + 20"
   ]
  },
  {
   "cell_type": "code",
   "execution_count": null,
   "id": "b40b37ad",
   "metadata": {},
   "outputs": [],
   "source": []
  }
 ],
 "metadata": {
  "kernelspec": {
   "display_name": "Python 3 (ipykernel)",
   "language": "python",
   "name": "python3"
  },
  "language_info": {
   "codemirror_mode": {
    "name": "ipython",
    "version": 3
   },
   "file_extension": ".py",
   "mimetype": "text/x-python",
   "name": "python",
   "nbconvert_exporter": "python",
   "pygments_lexer": "ipython3",
   "version": "3.9.12"
  }
 },
 "nbformat": 4,
 "nbformat_minor": 5
}
